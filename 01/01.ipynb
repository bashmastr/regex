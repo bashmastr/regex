{
 "cells": [
  {
   "cell_type": "code",
   "execution_count": 156,
   "metadata": {},
   "outputs": [
    {
     "name": "stdout",
     "output_type": "stream",
     "text": [
      "['12', '52', 'cm']\n",
      "['50', '66.4', 'cm']\n",
      "['168.9', '274.3', '3.8', 'cm', '66 1/2', '108', '1 1/2', 'in']\n",
      "['16 1/4', '12 1/4', 'in', '41.3', '31.1', 'cm']\n",
      "['5', '5', 'in']\n"
     ]
    }
   ],
   "source": [
    "def inches_to_cm(hwdList):\n",
    "    \n",
    "    for i in hwdList:\n",
    "        \n",
    "        i = i * 2.52 # inches to cm\n",
    "    \n",
    "    return hwdList\n",
    "\n",
    "\n",
    "import re\n",
    "\n",
    "\"shs :d16 1/4\"\n",
    "\n",
    "haystackList = [\"12*52 cm\",\n",
    "                \"50 * 66.4 cm\",\n",
    "                \"168.9 * 274.3 * 3.8 cm(66 1/2 * 108 * 1 1/2 in.)\" \n",
    "                , \"16 1/4 * 12 1/4 in. (41.3 * 31.1cm)Im..\", \n",
    "                    \"5 by 5 in\"]\n",
    "\n",
    "for i in haystackList:\n",
    "    \n",
    "    dataList =  re.findall(r\"\\d*\\s+\\d[/]\\d+|[-+]?\\d*\\.\\d+|\\d+|cm|in\", i)\n",
    "    print(dataList)\n"
   ]
  },
  {
   "cell_type": "code",
   "execution_count": 148,
   "metadata": {},
   "outputs": [
    {
     "ename": "SyntaxError",
     "evalue": "invalid syntax (<ipython-input-148-66e2c1d0cdef>, line 1)",
     "output_type": "error",
     "traceback": [
      "\u001b[0;36m  File \u001b[0;32m\"<ipython-input-148-66e2c1d0cdef>\"\u001b[0;36m, line \u001b[0;32m1\u001b[0m\n\u001b[0;31m    str_prefix =\u001b[0m\n\u001b[0m                 ^\u001b[0m\n\u001b[0;31mSyntaxError\u001b[0m\u001b[0;31m:\u001b[0m invalid syntax\n"
     ]
    }
   ],
   "source": [
    "str_prefix = "
   ]
  },
  {
   "cell_type": "code",
   "execution_count": 140,
   "metadata": {},
   "outputs": [
    {
     "data": {
      "text/plain": [
       "['5', '5']"
      ]
     },
     "execution_count": 140,
     "metadata": {},
     "output_type": "execute_result"
    }
   ],
   "source": [
    "\n",
    "re.findall(r\"\\d*\\s+\\d[/]\\d+|[-+]?\\d*\\.\\d+|\\d+\", haystack3)\n"
   ]
  },
  {
   "cell_type": "code",
   "execution_count": 187,
   "metadata": {},
   "outputs": [
    {
     "name": "stdout",
     "output_type": "stream",
     "text": [
      "[1, 2, 'cm', 6, 'cm']\n"
     ]
    }
   ],
   "source": [
    "a = [1,2,'cm',6,'cm']\n",
    "\n",
    "if \"cm\" in a and \"in\" in a:\n",
    "    indeIN = a.index('in')\n",
    "    indeCM = a.index('cm')\n",
    "    if indeIN < indeCM:\n",
    "        a = a[0:indeIN+1]\n",
    "    else:\n",
    "        a = a[0:indeCM+1]\n",
    "    \n",
    "\n",
    "\n",
    "    \n",
    "print(a)\n"
   ]
  },
  {
   "cell_type": "code",
   "execution_count": null,
   "metadata": {},
   "outputs": [],
   "source": []
  }
 ],
 "metadata": {
  "kernelspec": {
   "display_name": "Python 3",
   "language": "python",
   "name": "python3"
  },
  "language_info": {
   "codemirror_mode": {
    "name": "ipython",
    "version": 3
   },
   "file_extension": ".py",
   "mimetype": "text/x-python",
   "name": "python",
   "nbconvert_exporter": "python",
   "pygments_lexer": "ipython3",
   "version": "3.7.6"
  }
 },
 "nbformat": 4,
 "nbformat_minor": 4
}
